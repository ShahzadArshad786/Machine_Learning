{
  "nbformat": 4,
  "nbformat_minor": 0,
  "metadata": {
    "colab": {
      "provenance": [],
      "authorship_tag": "ABX9TyPWRHBEQJkx+KFlCnAsDtOY",
      "include_colab_link": true
    },
    "kernelspec": {
      "name": "python3",
      "display_name": "Python 3"
    },
    "language_info": {
      "name": "python"
    }
  },
  "cells": [
    {
      "cell_type": "markdown",
      "metadata": {
        "id": "view-in-github",
        "colab_type": "text"
      },
      "source": [
        "<a href=\"https://colab.research.google.com/github/ShahzadArshad786/Machine_Learning/blob/main/CNN.ipynb\" target=\"_parent\"><img src=\"https://colab.research.google.com/assets/colab-badge.svg\" alt=\"Open In Colab\"/></a>"
      ]
    },
    {
      "cell_type": "code",
      "execution_count": 55,
      "metadata": {
        "colab": {
          "base_uri": "https://localhost:8080/"
        },
        "id": "SlC5JEjWLAqO",
        "outputId": "6bf7d1e3-3e3d-4457-cf5a-0d4b2109e9ae"
      },
      "outputs": [
        {
          "output_type": "stream",
          "name": "stdout",
          "text": [
            "Original Image Shape: (1280, 814)\n",
            "Resized Image Shape: (4, 4)\n"
          ]
        }
      ],
      "source": [
        "from PIL import Image\n",
        " # Open an image file\n",
        "image_path = \"main.jpg\"\n",
        "original_image = Image.open(image_path)\n",
        "# Display the shape of the original image\n",
        "original_shape = original_image.size\n",
        "print(\"Original Image Shape:\", original_shape)\n",
        "# Define the new size\n",
        "new_size = (4, 4) # Replace width and height with your desired values\n",
        "# Resize the image\n",
        "resized_image = original_image.resize(new_size)\n",
        "# Display the shape of the resized image\n",
        "resized_shape = resized_image.size\n",
        "print(\"Resized Image Shape:\", resized_shape)\n",
        "# Save the resized image (optional)\n",
        "\n",
        "resized_image.save(\"img2.jpeg\")\n",
        "\n",
        "# Display the resized image (optional)\n",
        "resized_image.show()"
      ]
    },
    {
      "cell_type": "code",
      "source": [
        "from PIL import Image\n",
        "import numpy as np\n",
        "import tensorflow as tf\n",
        "import matplotlib.pyplot as plt\n",
        "# Set the params for plotting\n",
        "plt.rc('figure', autolayout=True)\n",
        "plt.rc('image', cmap='magma')\n",
        "# Define the kernel\n",
        "\n",
        "kernel = tf.constant([[-1, -1, -1],\n",
        "[-1, 8, -1],\n",
        "[-1, -1, -1]], dtype=tf.float32)\n",
        "\n",
        "# Add a channel dimension to the kernel\n",
        "kernel = tf.expand_dims(tf.expand_dims(kernel, axis=-1), axis=-1)\n",
        "# Load the image\n",
        "image_path = \"img2.jpeg\"\n",
        "original_image = Image.open(image_path).convert('L') # Convert to grayscale\n",
        "# Convert the image to a NumPy array and cast to float32\n",
        "img_array = np.array(original_image, dtype=np.float32)\n",
        "\n",
        "# Display the original grayscale image, its dimensions, and matrix values\n",
        "plt.figure(figsize=(4, 4))\n",
        "plt.imshow(img_array, cmap='gray')\n",
        "plt.axis('off')\n",
        "plt.title(f\"Original Image\\nDimensions: {img_array.shape}\")\n",
        "plt.show()\n",
        "# Add a batch and channel dimension to the image\n",
        "image = tf.expand_dims(tf.expand_dims(img_array, axis=0), axis=-1)\n",
        "# Convolution layer\n",
        "conv_fn = tf.nn.conv2d\n",
        "image_filter = conv_fn(\n",
        "input=image,\n",
        "filters=kernel,\n",
        "strides=1,\n",
        "padding='SAME',\n",
        ")\n",
        "\n",
        "# Plot the convolved image\n",
        "plt.figure(figsize=(10, 5))\n",
        "plt.subplot(1, 3, 3)\n",
        "plt.imshow(tf.squeeze(image_filter), cmap='gray')\n",
        "plt.axis('off')\n",
        "plt.title('Convolution')\n",
        "plt.show()\n",
        "# Print the matrix values before and after convolution\n",
        "print(\"Original Image Matrix Values:\")\n",
        "print(img_array)\n",
        "print(\"\\nAfter Convolution Matrix Values:\")\n",
        "print(tf.squeeze(image_filter).numpy())\n",
        "\n",
        "\n"
      ],
      "metadata": {
        "id": "_C4wNDZdLs3a",
        "colab": {
          "base_uri": "https://localhost:8080/",
          "height": 953
        },
        "outputId": "647a201d-ac88-41b2-c746-9e3022e089a7"
      },
      "execution_count": 56,
      "outputs": [
        {
          "output_type": "display_data",
          "data": {
            "text/plain": [
              "<Figure size 400x400 with 1 Axes>"
            ],
            "image/png": "[encoded data removed]"
          },
          "metadata": {}
        },
        {
          "output_type": "display_data",
          "data": {
            "text/plain": [
              "<Figure size 1000x500 with 1 Axes>"
            ],
            "image/png": "[encoded data removed]"
          },
          "metadata": {}
        },
        {
          "output_type": "stream",
          "name": "stdout",
          "text": [
            "Original Image Matrix Values:\n",
            "[[212. 211. 120.  49.]\n",
            " [159. 170. 102.  48.]\n",
            " [122. 147. 107.  73.]\n",
            " [ 98. 128. 105.  83.]]\n",
            "\n",
            "After Convolution Matrix Values:\n",
            "[[1156.  925.  380.  122.]\n",
            " [ 410.  180. -109.  -67.]\n",
            " [ 274.  185.    0.  139.]\n",
            " [ 387.  445.  302.  379.]]\n"
          ]
        }
      ]
    },
    {
      "cell_type": "code",
      "source": [
        "\n",
        "# ReLU activation\n",
        "relu_image = tf.nn.relu(image_filter)\n",
        "# Plot the convolved image\n",
        "plt.subplot(1, 3, 2)\n",
        "plt.imshow(tf.squeeze(image_filter), cmap='gray')\n",
        "plt.axis('off')\n",
        "plt.title('After ReLU Activation')\n",
        "plt.show()\n",
        "print(\"\\nAfter ReLU Activation Matrix Values:\")\n",
        "print(tf.squeeze(relu_image).numpy())"
      ],
      "metadata": {
        "colab": {
          "base_uri": "https://localhost:8080/",
          "height": 356
        },
        "outputId": "f5395bd4-8729-459e-e3cf-0563a9171a75",
        "id": "MtRredz-o82s"
      },
      "execution_count": 57,
      "outputs": [
        {
          "output_type": "display_data",
          "data": {
            "text/plain": [
              "<Figure size 640x480 with 1 Axes>"
            ],
            "image/png": "[encoded data removed]"
          },
          "metadata": {}
        },
        {
          "output_type": "stream",
          "name": "stdout",
          "text": [
            "\n",
            "After ReLU Activation Matrix Values:\n",
            "[[1156.  925.  380.  122.]\n",
            " [ 410.  180.    0.    0.]\n",
            " [ 274.  185.    0.  139.]\n",
            " [ 387.  445.  302.  379.]]\n"
          ]
        }
      ]
    },
    {
      "cell_type": "code",
      "source": [
        "# Max pooling\n",
        "pooled_image = tf.nn.max_pool(\n",
        "input=relu_image,\n",
        "ksize=2,\n",
        "strides=2,\n",
        "padding='SAME',\n",
        ")\n",
        "\n",
        "# Plot the convolved image\n",
        "plt.subplot(1, 4, 1)\n",
        "plt.imshow(tf.squeeze(image_filter), cmap='gray')\n",
        "plt.axis('off')\n",
        "plt.title('After Convolution ( Padding)')\n",
        "# Plot the image after ReLU activation\n",
        "plt.subplot(1, 4, 2)\n",
        "plt.imshow(tf.squeeze(relu_image), cmap='gray')\n",
        "plt.axis('off')\n",
        "plt.title('After ReLU Activation')\n",
        "\n",
        "# Plot the image after Max Pooling\n",
        "plt.subplot(1, 4, 4)\n",
        "plt.imshow(pooled_image[0, :, :, 0], cmap='gray') # Assuming batch size is 1\n",
        "plt.axis('off')\n",
        "plt.title('After Max Pooling')\n",
        "plt.show()\n",
        "\n",
        "print(\"\\nAfter Max Pooling Matrix Values:\")\n",
        "print(tf.squeeze(pooled_image).numpy())"
      ],
      "metadata": {
        "colab": {
          "base_uri": "https://localhost:8080/",
          "height": 269
        },
        "outputId": "ff722ed9-c9db-45c8-c817-2391edefb012",
        "id": "5UPzuu54piGQ"
      },
      "execution_count": 58,
      "outputs": [
        {
          "output_type": "display_data",
          "data": {
            "text/plain": [
              "<Figure size 640x480 with 3 Axes>"
            ],
            "image/png": "[encoded data removed]"
          },
          "metadata": {}
        },
        {
          "output_type": "stream",
          "name": "stdout",
          "text": [
            "\n",
            "After Max Pooling Matrix Values:\n",
            "[[1156.  380.]\n",
            " [ 445.  379.]]\n"
          ]
        }
      ]
    },
    {
      "cell_type": "code",
      "source": [
        "# Max pooling1\n",
        "pooled_image1 = tf.nn.max_pool(\n",
        "input=relu_image,\n",
        "ksize=2,\n",
        "strides=2,\n",
        "padding='SAME',\n",
        ")\n",
        "#Max pooling2\n",
        "pooled_image2 = tf.nn.max_pool(\n",
        "input=pooled_image1,\n",
        "ksize=2,\n",
        "strides=2,\n",
        "padding='SAME',\n",
        ")\n",
        "# Flatten the output of max pooling\n",
        "flattened_output = tf.reshape(pooled_image2, (pooled_image2.shape[0], -1))\n",
        "#Fully connected layer with specified weights and biases\n",
        "fc_weights = tf.constant([[0.5], [0.5] ]) # Example weights\n",
        "fc_biases = tf.constant([1.0, 0.5  ]) # Example biases\n",
        "fc_layer = tf.keras.layers.Dense(units=2, activation=None, use_bias=True)\n",
        "fc_layer.build((None, flattened_output.shape[1])) # Build the layer with correct input shape\n",
        "fc_layer.set_weights([fc_weights.numpy().T, fc_biases.numpy()]) # Transpose weights\n",
        "# Softmax activation\n",
        "softmax_layer = tf.keras.layers.Softmax()\n",
        "softmax_output = softmax_layer(fc_layer(flattened_output))\n",
        "print(\"\\nMax Pooling Matrix Values After Pooled Image 1:\")\n",
        "print(pooled_image1[0, :, :, 0].numpy())\n",
        "print(\"\\nMax Pooling Matrix Values After Pooled Image 2:\")\n",
        "print(pooled_image2[0, :, :, 0].numpy())\n",
        "print(\"\\nFully Connected Layer Output Values:\")\n",
        "print(fc_layer(flattened_output).numpy())\n",
        "# Plot the image after Fully Connected layer\n",
        "plt.subplot(1, 5, 5)\n",
        "plt.imshow(softmax_output.numpy(), cmap='gray') # Display the output of the softmax layer\n",
        "plt.axis('off')\n",
        "plt.title('After Softmax Layer')\n",
        "plt.show()\n",
        "print(\"\\nSoftmax Output Values:\")\n",
        "print(softmax_output.numpy())"
      ],
      "metadata": {
        "colab": {
          "base_uri": "https://localhost:8080/",
          "height": 340
        },
        "outputId": "26baafc2-10dc-4dd9-f7da-97458e192697",
        "id": "i71auk9Pf5KX"
      },
      "execution_count": 59,
      "outputs": [
        {
          "output_type": "stream",
          "name": "stdout",
          "text": [
            "\n",
            "Max Pooling Matrix Values After Pooled Image 1:\n",
            "[[1156.  380.]\n",
            " [ 445.  379.]]\n",
            "\n",
            "Max Pooling Matrix Values After Pooled Image 2:\n",
            "[[1156.]]\n",
            "\n",
            "Fully Connected Layer Output Values:\n",
            "[[579.  578.5]]\n"
          ]
        },
        {
          "output_type": "display_data",
          "data": {
            "text/plain": [
              "<Figure size 640x480 with 1 Axes>"
            ],
            "image/png": "[encoded data removed]"
          },
          "metadata": {}
        },
        {
          "output_type": "stream",
          "name": "stdout",
          "text": [
            "\n",
            "Softmax Output Values:\n",
            "[[0.62245935 0.37754068]]\n"
          ]
        }
      ]
    },
    {
      "cell_type": "code",
      "source": [
        "from PIL import Image\n",
        "import numpy as np\n",
        "import tensorflow as tf\n",
        "import matplotlib.pyplot as plt\n",
        "# Set the params for plotting\n",
        "plt.rc('figure', autolayout=True)\n",
        "plt.rc('image', cmap='magma')\n",
        "# Define the kernel\n",
        "kernel = tf.constant([[-1, -1, -1],\n",
        "[-1, 8, -1],\n",
        "[-1, -1, -1]], dtype=tf.float32)\n",
        "# Add a channel dimension to the kernel\n",
        "kernel = tf.expand_dims(tf.expand_dims(kernel, axis=-1), axis=-1)\n",
        "# Load the image\n",
        "image_path = \"img2.jpeg\"\n",
        "original_image = Image.open(image_path).convert('L') # Convert to grayscale\n",
        "# Convert the image to a NumPy array and cast to float32\n",
        "img_array = np.array(original_image, dtype=np.float32)\n",
        "# Display the original grayscale image, its dimensions, and matrix values\n",
        "plt.figure(figsize=(8, 4))\n",
        "plt.subplot(1, 3, 1)\n",
        "plt.imshow(img_array, cmap='gray')\n",
        "plt.axis('off')\n",
        "plt.title(f\"Original Image\\nDimensions: {img_array.shape}\")\n",
        "# Add a batch and channel dimension to the image\n",
        "image = tf.expand_dims(tf.expand_dims(img_array, axis=0), axis=-1)\n",
        "\n",
        "# Convolution layer without padding\n",
        "conv_fn = tf.nn.conv2d\n",
        "convolved_image = conv_fn(\n",
        "input=image,\n",
        "filters=kernel,\n",
        "strides=1,\n",
        "padding='VALID',\n",
        ")\n",
        "# ReLU activation\n",
        "relu_image = tf.nn.relu(convolved_image)\n",
        "# Plot the convolved image\n",
        "plt.subplot(1, 3, 2)\n",
        "plt.imshow(tf.squeeze(convolved_image), cmap='gray')\n",
        "plt.axis('off')\n",
        "plt.title('After Convolution (No Padding)')\n",
        "# Plot the image after ReLU activation\n",
        "plt.subplot(1, 3, 3)\n",
        "plt.imshow(tf.squeeze(relu_image), cmap='gray')\n",
        "plt.axis('off')\n",
        "plt.title('After ReLU Activation')\n",
        "plt.show()\n",
        "# Print the matrix values before and after convolution\n",
        "print(\"Original Image Matrix Values:\")\n",
        "print(img_array)\n",
        "print(\"\\nAfter Convolution Matrix Values (No Padding):\")\n",
        "print(tf.squeeze(convolved_image).numpy())\n",
        "print(\"\\nAfter ReLU Activation Matrix Values:\")\n",
        "print(tf.squeeze(relu_image).numpy())\n",
        "\n",
        "\n"
      ],
      "metadata": {
        "colab": {
          "base_uri": "https://localhost:8080/",
          "height": 552
        },
        "id": "FKKdLogkTqig",
        "outputId": "32f4167f-eaa4-41f9-ee4b-7b5808d21454"
      },
      "execution_count": 60,
      "outputs": [
        {
          "output_type": "display_data",
          "data": {
            "text/plain": [
              "<Figure size 800x400 with 3 Axes>"
            ],
            "image/png": "[encoded data removed]"
          },
          "metadata": {}
        },
        {
          "output_type": "stream",
          "name": "stdout",
          "text": [
            "Original Image Matrix Values:\n",
            "[[212. 211. 120.  49.]\n",
            " [159. 170. 102.  48.]\n",
            " [122. 147. 107.  73.]\n",
            " [ 98. 128. 105.  83.]]\n",
            "\n",
            "After Convolution Matrix Values (No Padding):\n",
            "[[ 180. -109.]\n",
            " [ 185.    0.]]\n",
            "\n",
            "After ReLU Activation Matrix Values:\n",
            "[[180.   0.]\n",
            " [185.   0.]]\n"
          ]
        }
      ]
    },
    {
      "cell_type": "code",
      "source": [
        "# Max pooling\n",
        "pooled_image = tf.nn.max_pool(\n",
        "input=relu_image,\n",
        "ksize=2,\n",
        "strides=2,\n",
        "padding='VALID',\n",
        ")\n",
        "plt.subplot(1, 4, 4)\n",
        "plt.imshow(pooled_image[0, :, :, 0], cmap='gray')\n",
        "plt.axis('off')\n",
        "plt.title('After Max Pooling')\n",
        "plt.show()\n",
        "\n",
        "print(\"\\nAfter Max Pooling Matrix Values:\")\n",
        "print(tf.squeeze(pooled_image).numpy())"
      ],
      "metadata": {
        "colab": {
          "base_uri": "https://localhost:8080/",
          "height": 252
        },
        "id": "STn-Uf37UDxb",
        "outputId": "c45e280e-392d-4189-d6c6-76826b9f402f"
      },
      "execution_count": 49,
      "outputs": [
        {
          "output_type": "display_data",
          "data": {
            "text/plain": [
              "<Figure size 640x480 with 1 Axes>"
            ],
            "image/png": "[encoded data removed]"
          },
          "metadata": {}
        },
        {
          "output_type": "stream",
          "name": "stdout",
          "text": [
            "\n",
            "After Max Pooling Matrix Values:\n",
            "185.0\n"
          ]
        }
      ]
    },
    {
      "cell_type": "code",
      "source": [
        "\n",
        "# Flatten the output of max pooling\n",
        "flattened_output = tf.reshape(pooled_image, (pooled_image.shape[0], -1))\n",
        "# Fully connected layer with specified weights and biases\n",
        "fc_weights = tf.constant([[0.5], [0.5]]) # Example weights\n",
        "fc_biases = tf.constant([1.0, 0.5]) # Example biases\n",
        "fc_layer = tf.keras.layers.Dense(units=2, activation=None, use_bias=True)\n",
        "fc_layer.build((None, flattened_output.shape[1])) # Build the layer with correct input shape\n",
        "fc_layer.set_weights([fc_weights.numpy().T, fc_biases.numpy()]) # Transpose weights\n",
        "# Softmax activation\n",
        "softmax_layer = tf.keras.layers.Softmax()\n",
        "softmax_output = softmax_layer(fc_layer(flattened_output))\n",
        "\n",
        "# Plot the image after Fully Connected layer\n",
        "plt.subplot(1, 5, 5)\n",
        "plt.imshow(softmax_output.numpy(), cmap='gray') # Display the output of the softmax layer\n",
        "plt.axis('off')\n",
        "plt.title('After Softmax Layer')\n",
        "plt.show()\n",
        "\n",
        "print(\"\\nFully Connected Layer Output Values:\")\n",
        "print(fc_layer(flattened_output).numpy())\n",
        "print(\"\\nSoftmax Output Values:\")\n",
        "print(softmax_output.numpy())"
      ],
      "metadata": {
        "id": "FUNGsRlIpf75",
        "colab": {
          "base_uri": "https://localhost:8080/",
          "height": 218
        },
        "outputId": "c6f49da4-6783-4305-b4ac-5f34e9d72f6d"
      },
      "execution_count": 50,
      "outputs": [
        {
          "output_type": "display_data",
          "data": {
            "text/plain": [
              "<Figure size 640x480 with 1 Axes>"
            ],
            "image/png": "[encoded data removed]"
          },
          "metadata": {}
        },
        {
          "output_type": "stream",
          "name": "stdout",
          "text": [
            "\n",
            "Fully Connected Layer Output Values:\n",
            "[[93.5 93. ]]\n",
            "\n",
            "Softmax Output Values:\n",
            "[[0.62245935 0.37754068]]\n"
          ]
        }
      ]
    }
  ]
}